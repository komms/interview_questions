{
 "cells": [
  {
   "cell_type": "markdown",
   "id": "c0ed94bf",
   "metadata": {},
   "source": [
    "# Reachable numbers"
   ]
  },
  {
   "cell_type": "markdown",
   "id": "026e6935",
   "metadata": {},
   "source": [
    "Method: adding +1 to the given number and iteratively checking till the number/quotient is not divisble by 10 anymore, then if the quotient already exists, we stop the process. Otherwise, we continue the same process."
   ]
  },
  {
   "cell_type": "code",
   "execution_count": 24,
   "id": "b7fc5d74",
   "metadata": {},
   "outputs": [
    {
     "data": {
      "text/plain": [
       "[1,\n",
       " 2,\n",
       " 3,\n",
       " 4,\n",
       " 5,\n",
       " 6,\n",
       " 7,\n",
       " 8,\n",
       " 9,\n",
       " 12,\n",
       " 13,\n",
       " 14,\n",
       " 15,\n",
       " 16,\n",
       " 17,\n",
       " 18,\n",
       " 19,\n",
       " 113,\n",
       " 114,\n",
       " 115,\n",
       " 116,\n",
       " 117,\n",
       " 118,\n",
       " 119,\n",
       " 1122,\n",
       " 1123,\n",
       " 1124,\n",
       " 1125,\n",
       " 1126,\n",
       " 1127,\n",
       " 1128,\n",
       " 1129]"
      ]
     },
     "execution_count": 24,
     "metadata": {},
     "output_type": "execute_result"
    }
   ],
   "source": [
    "import typing as T\n",
    "\n",
    "# init\n",
    "reachable_numbers: T.List[int] = []\n",
    "upper_limit: int = 10**9 \n",
    "lower_limit: int = 1\n",
    "given_number = 1122\n",
    "\n",
    "#appending the given number\n",
    "reachable_numbers.append(given_number)\n",
    "\n",
    "if given_number <= lower_limit and given_number>=upper_limit:\n",
    "    print(\"select a number from 1 till 10^9\")\n",
    "else:\n",
    "    while given_number <= upper_limit:\n",
    "        given_number +=1\n",
    "        # selected based on upper limit\n",
    "        for i in range(1,10):\n",
    "            divisor = 10\n",
    "            if given_number%divisor == 0:\n",
    "                # getting the quotient\n",
    "                new_number = int(given_number/divisor)\n",
    "                given_number = new_number\n",
    "            else:\n",
    "                # breaking division for loop\n",
    "                break\n",
    "        if given_number in reachable_numbers:\n",
    "            break\n",
    "        else:\n",
    "            reachable_numbers.append(given_number)                  \n",
    "# sorting                \n",
    "reachable_numbers.sort()\n",
    "reachable_numbers"
   ]
  },
  {
   "cell_type": "code",
   "execution_count": null,
   "id": "d5c4f2aa",
   "metadata": {},
   "outputs": [],
   "source": []
  }
 ],
 "metadata": {
  "kernelspec": {
   "display_name": "Python 3 (ipykernel)",
   "language": "python",
   "name": "python3"
  },
  "language_info": {
   "codemirror_mode": {
    "name": "ipython",
    "version": 3
   },
   "file_extension": ".py",
   "mimetype": "text/x-python",
   "name": "python",
   "nbconvert_exporter": "python",
   "pygments_lexer": "ipython3",
   "version": "3.10.0"
  }
 },
 "nbformat": 4,
 "nbformat_minor": 5
}
